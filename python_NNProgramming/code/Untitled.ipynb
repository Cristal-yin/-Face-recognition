{
 "cells": [
  {
   "cell_type": "code",
   "execution_count": 11,
   "metadata": {},
   "outputs": [],
   "source": [
    "import numpy\n",
    "\n",
    "import scipy.special\n",
    "# neural network class definition\n",
    "class neuralNetwork:\n",
    "    # initialise the neural network\n",
    "    def __init__(self, inputnodes, hiddennodes, outputnodes, learningrate):\n",
    "        # set number of nodes in each input, hidden, output layer\n",
    "        self.inodes = inputnodes\n",
    "        self.hnodes = hiddennodes\n",
    "        self.onodes = outputnodes\n",
    "        \n",
    "        # learning rate\n",
    "        self.lr = learningrate\n",
    "#         self.wih = (numpy.random.rand(self.hnodes, self.inodes) - 0.5)\n",
    "#         self.who = (numpy.random.rand(self.onodes, self.hnodes) - 0.5)\n",
    "        self.wih = numpy.random.normal(\n",
    "            0.0,\n",
    "           pow(self.hnodes,-0.5),\n",
    "            (self.hnodes, self.inodes)\n",
    "        )\n",
    "        self.who = numpy.random.normal(\n",
    "        0.0,\n",
    "        pow(self.onodes, -0.5),\n",
    "        (self.onodes, self.hnodes)\n",
    "        )\n",
    "        # 创建一个函数\n",
    "        # 该函数接收了x， 返回scipy.special.expit(x) 也就是S函数，只不过该函数没有名字，可以称之为匿名函数\n",
    "        # 这里分配给了它名字：self.activation_function()\n",
    "        self.activation_function = lambda x:\n",
    "        scipy.special.expit(x)\n",
    "    # train the neural network\n",
    "    def trian():\n",
    "        pass\n",
    "    \n",
    "    # query the neural network\n",
    "    def query(self, inputs_list):\n",
    "        \n",
    "        #convert inputs list to 2d array\n",
    "        inputs = numpy.array(inputs_list, ndmin=2).T\n",
    "        \n",
    "        # calculate signals into hidden layer\n",
    "        hidden_inputs = numpy.dot(self.wih, inputs)\n",
    "        \n",
    "        # calculate the signals emerging from hidden layer\n",
    "        hidden_outputs = self.activation_function(hidden_inputs)\n",
    "        \n",
    "        final_inputs = numpy.dot(self.who, hidden_outputs)\n",
    "        # calculate signals into final output layer\n",
    "        final_outputs = self.activation_function(final_inputs)\n",
    "        \n",
    "        return final_outputs\n",
    "    \n"
   ]
  },
  {
   "cell_type": "code",
   "execution_count": 3,
   "metadata": {},
   "outputs": [],
   "source": [
    "input_nodes= 3\n",
    "hidden_nodes = 3\n",
    "output_nodes = 3\n",
    "\n",
    "learning_rate = 0.5\n",
    "\n",
    "n = neuralNetwork(input_nodes, hidden_nodes, output_nodes,learning_rate)"
   ]
  },
  {
   "cell_type": "code",
   "execution_count": 6,
   "metadata": {},
   "outputs": [],
   "source": [
    "# link  weight matrices, wih and who\n",
    "# weights inside the arrays are w_i_j, where link is from node i to node j in the next layer\n",
    "# w11 w21\n",
    "# w12 w22 etc.\n",
    "# self.wih = (numpy.random.rand(self.hnodes, self.inodes) - 0.5)\n",
    "# self.who = (numpy.random.rand(self.onodes, self.hnodes) - 0.5)\n",
    "a = (numpy.random.rand(3, 3) - 0.5)\n",
    "b = (numpy.random.rand(3,3) - 0.5)"
   ]
  },
  {
   "cell_type": "code",
   "execution_count": 7,
   "metadata": {},
   "outputs": [
    {
     "data": {
      "text/plain": [
       "(array([[ 0.05694898, -0.29626837, -0.42370632],\n",
       "        [ 0.09221505, -0.3617562 ,  0.0975012 ],\n",
       "        [-0.16420711, -0.35224554,  0.23392216]]),\n",
       " array([[ 0.27750085, -0.1312128 ,  0.16417653],\n",
       "        [-0.29907209, -0.07980997, -0.41474141],\n",
       "        [-0.07521637, -0.04311739, -0.32854328]]))"
      ]
     },
     "execution_count": 7,
     "metadata": {},
     "output_type": "execute_result"
    }
   ],
   "source": [
    "a,b"
   ]
  },
  {
   "cell_type": "code",
   "execution_count": null,
   "metadata": {},
   "outputs": [],
   "source": []
  },
  {
   "cell_type": "code",
   "execution_count": null,
   "metadata": {},
   "outputs": [],
   "source": []
  }
 ],
 "metadata": {
  "kernelspec": {
   "display_name": "Python [conda env:root] *",
   "language": "python",
   "name": "conda-root-py"
  },
  "language_info": {
   "codemirror_mode": {
    "name": "ipython",
    "version": 3
   },
   "file_extension": ".py",
   "mimetype": "text/x-python",
   "name": "python",
   "nbconvert_exporter": "python",
   "pygments_lexer": "ipython3",
   "version": "3.7.3"
  }
 },
 "nbformat": 4,
 "nbformat_minor": 2
}
