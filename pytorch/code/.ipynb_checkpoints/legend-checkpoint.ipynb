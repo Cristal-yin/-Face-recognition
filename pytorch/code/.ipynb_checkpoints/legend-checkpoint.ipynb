{
 "cells": [
  {
   "cell_type": "markdown",
   "metadata": {},
   "source": [
    "### legend图例\n",
    "展示出每个数据对应的图像名称， 更好的让读者认识到你的数据结构"
   ]
  },
  {
   "cell_type": "code",
   "execution_count": null,
   "metadata": {},
   "outputs": [],
   "source": [
    "import matplotlib.pyplot as plt\n",
    "import numpy as np\n",
    "\n",
    "\n",
    "x = np.linspace(-3, 3, 50)\n",
    "y1 = 2*x + 1\n",
    "y2 = x**2\n",
    "\n",
    "plt.figure(num = 3, figsize = (8, 5),)\n",
    "l2 = plt.plot(x, y2)\n",
    "l1 = plt.plot(x, y1, color = 'red', linewidth = 1.0, linestyle = '--')\n",
    "plt.xlim((-1, 2))\n",
    "plt.ylim((-2, 3))\n",
    "plt.xlabel('I am x')\n",
    "plt.ylabel('I am y')\n",
    "\n",
    "new_ticks = np.linspace(-1, 2, 5)\n",
    "print(new_ticks)\n",
    "plt.xticks(new_ticks)\n",
    "plt.yticks([-2, -1.8, -1, 1.22, 3],[r'$really\\ bad$', r'$bad$',r'$normal$',r'$good$',r'$really\\ good$'])\n"
   ]
  }
 ],
 "metadata": {
  "kernelspec": {
   "display_name": "Python [conda env:root] *",
   "language": "python",
   "name": "conda-root-py"
  },
  "language_info": {
   "codemirror_mode": {
    "name": "ipython",
    "version": 3
   },
   "file_extension": ".py",
   "mimetype": "text/x-python",
   "name": "python",
   "nbconvert_exporter": "python",
   "pygments_lexer": "ipython3",
   "version": "3.7.3"
  }
 },
 "nbformat": 4,
 "nbformat_minor": 2
}
