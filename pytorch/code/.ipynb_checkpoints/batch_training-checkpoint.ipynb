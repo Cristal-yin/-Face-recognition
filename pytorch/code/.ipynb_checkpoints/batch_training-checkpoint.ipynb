{
 "cells": [
  {
   "cell_type": "code",
   "execution_count": 5,
   "metadata": {},
   "outputs": [
    {
     "name": "stdout",
     "output_type": "stream",
     "text": [
      "Epoch: 0 | Step: 0 | batch x: [ 5.  7. 10.  3.  4.] | batch y: [6. 4. 1. 8. 7.]\n",
      "Epoch: 0 | Step: 1 | batch x: [2. 1. 8. 9. 6.] | batch y: [ 9. 10.  3.  2.  5.]\n",
      "Epoch: 1 | Step: 0 | batch x: [ 4.  6.  7. 10.  8.] | batch y: [7. 5. 4. 1. 3.]\n",
      "Epoch: 1 | Step: 1 | batch x: [5. 3. 2. 1. 9.] | batch y: [ 6.  8.  9. 10.  2.]\n",
      "Epoch: 2 | Step: 0 | batch x: [ 4.  2.  5.  6. 10.] | batch y: [7. 9. 6. 5. 1.]\n",
      "Epoch: 2 | Step: 1 | batch x: [3. 9. 1. 8. 7.] | batch y: [ 8.  2. 10.  3.  4.]\n"
     ]
    }
   ],
   "source": [
    "import torch\n",
    "import torch.utils.data as Data\n",
    "\n",
    "torch.manual_seed(1)\n",
    "BATCH_SIZE = 5  #批训练的数据个数\n",
    "\n",
    "x = torch.linspace(1, 10, 10)\n",
    "y = torch.linspace(10, 1, 10)\n",
    "\n",
    "# 先转换成torch能识别的Dataset\n",
    "torch_dataset = Data.TensorDataset(x, y)\n",
    "\n",
    "# 把 dataset放入DataLoader\n",
    "loader = Data.DataLoader(\n",
    "    dataset = torch_dataset,  #  torch TensorDataset format\n",
    "    batch_size = BATCH_SIZE,  # mini batch size\n",
    "    shuffle = True, # 要不要打乱数据（打乱比较好）\n",
    "    num_workers = 2, # 多线程来读数据\n",
    ")\n",
    "\n",
    "for epoch in range(3): # 训练所有整套数据3次\n",
    "    for step, (batch_x, batch_y) in enumerate(loader):#每一步loader释放一小批数据用来学习\n",
    "        # 打印一些数据\n",
    "        print('Epoch:',epoch,'| Step:',step,'| batch x:',batch_x.numpy(), \n",
    "             '| batch y:', batch_y.numpy())\n",
    "        \n",
    "# 每步都导出了5个数据进行学习，然后每个epoch的导出数据都是先打乱了以后再导出\n",
    "        "
   ]
  },
  {
   "cell_type": "code",
   "execution_count": null,
   "metadata": {},
   "outputs": [],
   "source": []
  }
 ],
 "metadata": {
  "kernelspec": {
   "display_name": "Python [conda env:root] *",
   "language": "python",
   "name": "conda-root-py"
  },
  "language_info": {
   "codemirror_mode": {
    "name": "ipython",
    "version": 3
   },
   "file_extension": ".py",
   "mimetype": "text/x-python",
   "name": "python",
   "nbconvert_exporter": "python",
   "pygments_lexer": "ipython3",
   "version": "3.7.3"
  }
 },
 "nbformat": 4,
 "nbformat_minor": 2
}
